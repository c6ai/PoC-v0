{
  "nbformat": 4,
  "nbformat_minor": 0,
  "metadata": {
    "colab": {
      "provenance": []
    },
    "kernelspec": {
      "name": "python3",
      "display_name": "Python 3"
    },
    "language_info": {
      "name": "python"
    }
  },
  "cells": [
    {
      "cell_type": "code",
      "execution_count": null,
      "metadata": {
        "id": "9zfkOiJnJ3Mo"
      },
      "outputs": [],
      "source": [
        "## 1st-C6AI-PoC--ElectionGuard-Web-API-in-Python-using-FastAPI-231022b.ipynb\n",
        "## Commentable @ https://colab.research.google.com/drive/1l3vriAwsCXHfA3nsQqXzoPnwBknFIm8i?usp=sharing\n",
        "## Editable @ https://colab.research.google.com/drive/1l3vriAwsCXHfA3nsQqXzoPnwBknFIm8i"
      ]
    },
    {
      "cell_type": "code",
      "source": [
        "!pip install -q electionguard"
      ],
      "metadata": {
        "id": "4UM6W2buQIQo"
      },
      "execution_count": null,
      "outputs": []
    },
    {
      "cell_type": "code",
      "source": [
        "!pip install -q \"fastapi[all]\"\n",
        "\n",
        "# lida 0.0.10 requires kaleido, which is not installed.\n",
        "# llmx 0.0.15a0 requires cohere, which is not installed.\n",
        "# llmx 0.0.15a0 requires openai, which is not installed.\n",
        "# llmx 0.0.15a0 requires tiktoken, which is not installed.\n"
      ],
      "metadata": {
        "id": "rOOMCC-vPxUw"
      },
      "execution_count": null,
      "outputs": []
    },
    {
      "cell_type": "code",
      "source": [
        "# Import FastAPI\n",
        "from fastapi import FastAPI"
      ],
      "metadata": {
        "id": "uXaMhxxRQmyO"
      },
      "execution_count": null,
      "outputs": []
    },
    {
      "cell_type": "code",
      "source": [
        "# Import electionguard-python\n",
        "from electionguard.ballot import CiphertextBallot\n",
        "from electionguard.election import CiphertextElectionContext\n",
        "from electionguard.encrypt import encrypt_ballot\n",
        "from electionguard.group import ElementModQ\n",
        "from electionguard.guardian import Guardian\n",
        "from electionguard.key_ceremony import CeremonyDetails\n",
        "from electionguard.manifest import InternalManifest\n",
        "from electionguard.tally import CiphertextTally\n"
      ],
      "metadata": {
        "id": "djBVN1upKItm"
      },
      "execution_count": null,
      "outputs": []
    },
    {
      "cell_type": "code",
      "source": [
        "# Create a FastAPI app\n",
        "app = FastAPI()\n"
      ],
      "metadata": {
        "id": "chImBWmYPjm9"
      },
      "execution_count": null,
      "outputs": []
    },
    {
      "cell_type": "code",
      "source": [
        "# Define some global variables for the election\n",
        "NUM_GUARDIANS = 3 # The number of guardians in the election\n",
        "QUORUM = 2 # The quorum of guardians required to decrypt the tally\n",
        "GUARDIANS = [] # A list of guardians\n",
        "ELECTION_KEYS = None # The public keys of the guardians\n",
        "ELECTION_MANIFEST = None # The manifest of the election\n",
        "ELECTION_CONTEXT = None # The context of the encryption\n",
        "BALLOTS = [] # A list of encrypted ballots\n",
        "TALLY = None # The encrypted tally\n"
      ],
      "metadata": {
        "id": "3B4Zmz7VKfUC"
      },
      "execution_count": null,
      "outputs": []
    },
    {
      "cell_type": "code",
      "source": [
        "# Define some helper functions for the key ceremony\n",
        "def create_guardians():\n",
        "    \"\"\"Create the guardians for the key ceremony\"\"\"\n",
        "    global GUARDIANS\n",
        "    GUARDIANS = [\n",
        "        Guardian(f\"guardian-{i}\", i, NUM_GUARDIANS, QUORUM)\n",
        "        for i in range(NUM_GUARDIANS)\n",
        "    ]\n",
        "\n",
        "def share_guardian_public_keys():\n",
        "    \"\"\"Share the public keys of the guardians\"\"\"\n",
        "    global ELECTION_KEYS\n",
        "    ELECTION_KEYS = {\n",
        "        guardian.object_id: guardian.share_public_keys()\n",
        "        for guardian in GUARDIANS\n",
        "    }\n",
        "\n",
        "def generate_election_partial_key_backups():\n",
        "    \"\"\"Generate the partial key backups for each guardian\"\"\"\n",
        "    for guardian in GUARDIANS:\n",
        "        guardian.generate_election_partial_key_backups(ELECTION_KEYS)\n",
        "\n",
        "def share_election_partial_key_backups():\n",
        "    \"\"\"Share the partial key backups with other guardians\"\"\"\n",
        "    for guardian in GUARDIANS:\n",
        "        for other_guardian in GUARDIANS:\n",
        "            if other_guardian.object_id != guardian.object_id:\n",
        "                backup = guardian.share_election_partial_key_backup(other_guardian.object_id)\n",
        "                other_guardian.save_election_partial_key_backup(backup)\n",
        "\n",
        "def verify_election_partial_key_backups():\n",
        "    \"\"\"Verify the partial key backups\"\"\"\n",
        "    for guardian in GUARDIANS:\n",
        "        for other_guardian in GUARDIANS:\n",
        "            if other_guardian.object_id != guardian.object_id:\n",
        "                backup = other_guardian.get_election_partial_key_backup(guardian.object_id)\n",
        "                verification = guardian.verify_election_partial_key_backup(backup)\n",
        "                other_guardian.save_election_partial_key_verification(verification)\n",
        "\n",
        "def publish_joint_public_key():\n",
        "    \"\"\"Publish the joint public key of the guardians\"\"\"\n",
        "    global ELECTION_CONTEXT\n",
        "    joint_public_key = Guardian.combine_election_public_keys(ELECTION_KEYS)\n",
        "    ELECTION_CONTEXT = CiphertextElectionContext(\n",
        "        number_of_guardians=NUM_GUARDIANS,\n",
        "        quorum=QUORUM,\n",
        "        elgamal_public_key=joint_public_key,\n",
        "        commitment_hash=ELECTION_MANIFEST.crypto_hash(),\n",
        "        manifest_hash=ELECTION_MANIFEST.crypto_hash(),\n",
        "        crypto_base_hash=ELECTION_MANIFEST.crypto_base_hash,\n",
        "        crypto_extended_base_hash=ELECTION_MANIFEST.crypto_extended_base_hash,\n",
        "    )\n"
      ],
      "metadata": {
        "id": "PThZPYx4KVNe"
      },
      "execution_count": null,
      "outputs": []
    },
    {
      "cell_type": "code",
      "source": [
        "# Define some helper functions for the ballot encryption\n",
        "def encrypt_ballot(ballot):\n",
        "    \"\"\"Encrypt a ballot using the election manifest and context\"\"\"\n",
        "    encrypted_ballot = encrypt_ballot(\n",
        "        ballot, ELECTION_MANIFEST, ELECTION_CONTEXT\n",
        "    )\n",
        "    return encrypted_ballot\n"
      ],
      "metadata": {
        "id": "PFosgLf0KVJX"
      },
      "execution_count": null,
      "outputs": []
    },
    {
      "cell_type": "code",
      "source": [
        "# Define some helper functions for the tallying\n",
        "def create_tally():\n",
        "    \"\"\"Create a tally for the election\"\"\"\n",
        "    global TALLY\n",
        "    TALLY = CiphertextTally(\"tally\", ELECTION_MANIFEST, ELECTION_CONTEXT)\n",
        "\n",
        "def append_ballot_to_tally(ballot):\n",
        "    \"\"\"Append a ballot to the tally\"\"\"\n",
        "    global TALLY\n",
        "    TALLY.append(ballot)\n",
        "\n",
        "def decrypt_tally():\n",
        "    \"\"\"Decrypt the tally using the guardians' shares\"\"\"\n",
        "    global TALLY\n",
        "    shares = {}\n",
        "    for guardian in GUARDIANS:\n",
        "        shares[guardian.object_id] = guardian.share_election_public_key()\n",
        "        for other_guardian in GUARDIANS:\n",
        "            if other_guardian.object_id != guardian.object_id:\n",
        "                backup = other_guardian.get_election_partial_key_backup(guardian.object_id)\n",
        "                share = guardian.compute_election_partial_key_challenge(backup, ELECTION_CONTEXT)\n",
        "                shares[guardian.object_id].add_partial_key_share(share)\n",
        "    decrypted_tally = TALLY.decrypt_with_shares(shares)\n",
        "    return decrypted_tally\n"
      ],
      "metadata": {
        "id": "EgXqEEtBKIqt"
      },
      "execution_count": null,
      "outputs": []
    },
    {
      "cell_type": "code",
      "source": [],
      "metadata": {
        "id": "B9sm7hjVSVqH"
      },
      "execution_count": null,
      "outputs": []
    },
    {
      "cell_type": "markdown",
      "source": [
        "### microsoft.github.io/electionguard-python/#requirements"
      ],
      "metadata": {
        "id": "PH1mRSCYSaPU"
      }
    },
    {
      "cell_type": "code",
      "source": [],
      "metadata": {
        "id": "cagOUy_ASZdG"
      },
      "execution_count": null,
      "outputs": []
    },
    {
      "cell_type": "code",
      "source": [
        "#TODO: ?\n",
        "\n",
        "## !make environment\n",
        "\n",
        "## !make start API_MODE=mediator\n",
        "\n",
        "### or\n",
        "## !make start API_MODE=guardian\n"
      ],
      "metadata": {
        "id": "kN2bNsllMM-T"
      },
      "execution_count": null,
      "outputs": []
    },
    {
      "cell_type": "code",
      "source": [
        "# #TODO: ?\n",
        "# ## https://hub.docker.com/settings/security\n",
        "\n",
        "# # Pull the image from DockerHub\n",
        "# docker pull docker.pkg.github.com/microsoft/electionguard-web-api/electionguard-web-api:main\n"
      ],
      "metadata": {
        "id": "x6ELAzqJNFRG"
      },
      "execution_count": null,
      "outputs": []
    },
    {
      "cell_type": "code",
      "source": [
        "# # Start a container for the API in mediator mode, exposed on port 80 of the host machine\n",
        "# docker run -d -p 80:8000 --env API_MODE=mediator docker.pkg.github.com/microsoft/electionguard-web-api/electionguard-web-api:main\n"
      ],
      "metadata": {
        "id": "Vlau2X7TNFzM"
      },
      "execution_count": null,
      "outputs": []
    },
    {
      "cell_type": "code",
      "source": [
        "## c/o: https://microsoft.github.io/electionguard-api-python/#quick-start\n",
        "\n",
        "## APIs\n",
        "\"\"\"\n",
        "application can run in one of two modes:\n",
        "\n",
        "guardian mode runs features used by Guardians (key ceremony actions, partial tally decryption, etc.)\n",
        "mediator mode runs features used by Mediators (ballot encryption, casting, spoiling, etc.)\n",
        "In practice, you will likely need to run at least one instance of each mode. We provide a single codebase and Docker image, but the mode can be set at runtime.\n",
        " \"\"\"\n",
        "\n",
        "## Running with Python\n",
        "\"\"\"\n",
        "Quick Start\n",
        "Using make, installation and startup can be run with one command:\n",
        "\n",
        "To set up the environment:\n",
        "\n",
        "make environment\n",
        "To start the api:\n",
        "\n",
        "make start API_MODE=mediator\n",
        "OR\n",
        "\n",
        "make start API_MODE=guardian\n",
        " \"\"\"\n",
        "\n",
        "## Documentation\n",
        "\"\"\"\n",
        "FastApi defaultly has API documentation built in. The following is available after running:\n",
        "\n",
        "SwaggerUI at http://127.0.0.1:8000/docs or http://127.0.0.1:8001/docs, depending on the API mode\n",
        "\n",
        "ReDoc at http://127.0.0.1:8000/redoc or http://127.0.0.1:8001/redoc\n",
        " \"\"\"\n",
        "\n",
        "## Debugging\n",
        "\"\"\"\n",
        "For local debugging with Visual Studio Code, choose the Guardian Web API or Mediator Web API options from the dropdown in the Run menu. Once the server is up, you can easily hit your breakpoints.\n",
        "\n",
        "If the code fails to run, make sure your Python interpreter is set to use your poetry environment.\n",
        " \"\"\"\n",
        "\n",
        "## Testing\n",
        "\"\"\"\n",
        "A Postman collection is available to test the API located in the /tests folder. You can do a few things with this:\n",
        "\n",
        "Import into Postman for easy manual testing.\n",
        "Run locally with the Newman CLI.\n",
        "Run the APIs and tests entirely in Docker by running: bash\n",
        "  make docker-test\n",
        " \"\"\"\n",
        "\n",
        "## Docker\n",
        "\"\"\"\n",
        "Running with Docker\n",
        "The official Docker image\n",
        "We host a Docker image on both Github Packages and DockerHub.\n",
        "\n",
        "Note: GitHub Packages requires authentication to retrieve the package. This requires a GitHub Access Token and using docker login. Follow GitHub instructions.\n",
        "\n",
        "# Pull the image from DockerHub\n",
        "docker pull docker.pkg.github.com/microsoft/electionguard-web-api/electionguard-web-api:main\n",
        "\n",
        "# Start a container for the API in mediator mode, exposed on port 80 of the host machine\n",
        "docker run -d -p 80:8000 --env API_MODE=mediator docker.pkg.github.com/microsoft/electionguard-web-api/electionguard-web-api:main\n",
        "OR\n",
        "\n",
        "# Pull the image from DockerHub\n",
        "docker pull electionguard/electionguard-web-api:latest\n",
        "\n",
        "# Start a container for the API in mediator mode, exposed on port 80 of the host machine\n",
        "docker run -d -p 80:8000 --env API_MODE=mediator electionguard/electionguard-web-api:latest\n",
        "Developing locally with Docker\n",
        "If you run Docker and want to run the code locally without Python dependencies, we provide a Dockerfile and docker-compose.yml.\n",
        "\n",
        "Run both APIs at the same time:\n",
        "\n",
        "make docker-run\n",
        "Or run both APIs in development mode, with automatic reloading on file change:\n",
        "\n",
        "make docker-dev\n",
        "After either command, you will find the mediator API running at http://127.0.0.1:8000 and the guardian API at http://127.0.0.1:8001\n",
        " \"\"\"\n",
        "\n",
        "print()\n"
      ],
      "metadata": {
        "colab": {
          "base_uri": "https://localhost:8080/"
        },
        "id": "PoOAQjFjKIwl",
        "outputId": "0e0ef84b-ab11-4a91-c11c-904d62dde103"
      },
      "execution_count": null,
      "outputs": [
        {
          "output_type": "stream",
          "name": "stdout",
          "text": [
            "\n"
          ]
        }
      ]
    },
    {
      "cell_type": "code",
      "source": [],
      "metadata": {
        "id": "--_NZAfvSVmh"
      },
      "execution_count": null,
      "outputs": []
    },
    {
      "cell_type": "code",
      "source": [
        "# # Define some API endpoints for the election process\n",
        "# @app.post(\"/create_election\")\n",
        "# def create_election(manifest: InternalManifest):\n",
        "#     \"\"\"Create an election with a given manifest\"\"\"\n",
        "#     global ELECTION_MANIFEST\n",
        "#     ELECTION_MANIFEST = manifest\n",
        "#     # Perform the key ceremony\n",
        "#     create_guardians()\n",
        "#     share_guardian_public_keys()\n",
        "#     generate_election_partial_key_backups()\n",
        "#     share_election_partial_key_backups()\n",
        "#     verify_election_partial_key_backups()\n",
        "#     publish_joint_public_key()\n",
        "#     # Return the election context\n",
        "#     return ELECTION_CONTEXT\n"
      ],
      "metadata": {
        "id": "s3OXmFwWKRO1"
      },
      "execution_count": null,
      "outputs": []
    },
    {
      "cell_type": "code",
      "source": [
        "\n",
        "# @app.post(\"/encrypt_ballot\")\n",
        "# def encrypt_ballot(ballot: CiphertextBallot):\n",
        "#     \"\"\"Encrypt a ballot with the election context\"\"\"\n",
        "#     encrypted_ballot = encrypt_ballot(ballot)\n",
        "#     return encrypted_ballot\n"
      ],
      "metadata": {
        "id": "w_5Y5uuPKRK2"
      },
      "execution_count": null,
      "outputs": []
    },
    {
      "cell_type": "code",
      "source": [
        "\n",
        "# @app.post(\"/cast_ballot\")\n",
        "# def cast_ballot(ballot: CiphertextBallot):\n",
        "#     \"\"\"Cast a ballot and append it to the tally\"\"\"\n",
        "#     append_ballot_to_tally(ballot)\n",
        "#     return {\"status\": \"success\"}\n"
      ],
      "metadata": {
        "id": "xn5N99paKRH_"
      },
      "execution_count": null,
      "outputs": []
    },
    {
      "cell_type": "code",
      "source": [
        "\n",
        "# @app.post(\"/spoil_ballot\")\n",
        "# def spoil_ballot(ballot: CiphertextBallot):\n",
        "#     \"\"\"Spoil a ballot and do not append it to the tally\"\"\"\n",
        "#     return {\"status\": \"success\"}\n"
      ],
      "metadata": {
        "id": "wZrLGH_zSL3Z"
      },
      "execution_count": null,
      "outputs": []
    },
    {
      "cell_type": "code",
      "source": [
        "\n",
        "# @app.get(\"/tally\")\n",
        "# def tally():\n",
        "#     \"\"\"Tally the results and decrypt them with the guardians' shares\"\"\"\n",
        "#     decrypted_tally = decrypt_tally()\n",
        "#     return decrypted_tally\n"
      ],
      "metadata": {
        "id": "p7qiS6MPKIn4"
      },
      "execution_count": null,
      "outputs": []
    },
    {
      "cell_type": "code",
      "source": [],
      "metadata": {
        "id": "exdYZyxPSNzA"
      },
      "execution_count": null,
      "outputs": []
    }
  ]
}